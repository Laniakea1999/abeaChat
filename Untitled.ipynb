{
 "cells": [
  {
   "cell_type": "code",
   "execution_count": 2,
   "id": "fd6258f7",
   "metadata": {
    "scrolled": true
   },
   "outputs": [
    {
     "name": "stdout",
     "output_type": "stream",
     "text": [
      "\u001b[33mWARNING: Value for scheme.headers does not match. Please report this to <https://github.com/pypa/pip/issues/9617>\n",
      "distutils: /usr/local/Caskroom/miniforge/base/include/python3.9/UNKNOWN\n",
      "sysconfig: /usr/local/Caskroom/miniforge/base/include/python3.9\u001b[0m\n",
      "\u001b[33mWARNING: Additional context:\n",
      "user = False\n",
      "home = None\n",
      "root = None\n",
      "prefix = None\u001b[0m\n",
      "Requirement already satisfied: regex in /usr/local/Caskroom/miniforge/base/lib/python3.9/site-packages (2023.3.23)\n",
      "\u001b[33mWARNING: Value for scheme.headers does not match. Please report this to <https://github.com/pypa/pip/issues/9617>\n",
      "distutils: /usr/local/Caskroom/miniforge/base/include/python3.9/UNKNOWN\n",
      "sysconfig: /usr/local/Caskroom/miniforge/base/include/python3.9\u001b[0m\n",
      "\u001b[33mWARNING: Additional context:\n",
      "user = False\n",
      "home = None\n",
      "root = None\n",
      "prefix = None\u001b[0m\n",
      "Note: you may need to restart the kernel to use updated packages.\n"
     ]
    }
   ],
   "source": [
    "pip install regex"
   ]
  },
  {
   "cell_type": "code",
   "execution_count": 3,
   "id": "6b79d0f7",
   "metadata": {},
   "outputs": [],
   "source": [
    "import os\n",
    "import pandas as pd\n",
    "import regex as re"
   ]
  },
  {
   "cell_type": "code",
   "execution_count": 4,
   "id": "348f4e69",
   "metadata": {},
   "outputs": [],
   "source": [
    "df_cc = pd.read_csv('counselchat-data.csv')\n",
    "df_red = pd.read_csv('offmychest_dyadic.csv')"
   ]
  },
  {
   "cell_type": "code",
   "execution_count": 5,
   "id": "f23594a2",
   "metadata": {},
   "outputs": [
    {
     "name": "stdout",
     "output_type": "stream",
     "text": [
      "1482\n"
     ]
    }
   ],
   "source": [
    "print(len(df_cc.index))"
   ]
  },
  {
   "cell_type": "code",
   "execution_count": 6,
   "id": "421d814c",
   "metadata": {},
   "outputs": [
    {
     "name": "stdout",
     "output_type": "stream",
     "text": [
      "943211\n"
     ]
    }
   ],
   "source": [
    "print(len(df_red.index))"
   ]
  },
  {
   "cell_type": "code",
   "execution_count": 7,
   "id": "6bdce2bf",
   "metadata": {},
   "outputs": [],
   "source": [
    "prompt_eng_pre_0 = \"\"\"Act as a psychologist spesialized in emotions.\n",
    "You will be given a text written by one person.\n",
    "Identify all the emotions of the speaker and associate to each emotion the cause (summarized in maximum 10 words).\\n\\n\"\"\"\n",
    "\n",
    "prompt_eng_post_0 = \"\"\"When responding, give the result organized in this way for example: Emotion: Anxiety => Cause: Something.\n",
    "Give only emotions expressed by the speaker.\n",
    "Give as much emotions as possible.\"\"\"\n",
    "\n",
    "prompt_eng_pre_1 = \"\"\"Then, you are given a response to each text made by a professionnal counselor: \"\"\"\n",
    "\n",
    "prompt_eng_post_1 = \"\"\"categorize every sentence into one or more of these categories:\n",
    "- Closed question\n",
    "- Open question\n",
    "- Simple reflection\n",
    "- Complex reflection\n",
    "- Give information\n",
    "- Advise with permission\n",
    "- Affirm\n",
    "- Emphasize Autonomy\n",
    "- Support\n",
    "- Advise without permission\n",
    "- Confront\n",
    "- Direct\n",
    "- Warn\n",
    "- Selft-disclosure\n",
    "- Other\"\"\""
   ]
  },
  {
   "cell_type": "code",
   "execution_count": 8,
   "id": "76e3c927",
   "metadata": {},
   "outputs": [
    {
     "name": "stdout",
     "output_type": "stream",
     "text": [
      "64\n"
     ]
    }
   ],
   "source": [
    "prompt_eng_size = len(re.findall(r'\\w+', prompt_eng_pre_0)) + len(re.findall(r'\\w+', prompt_eng_post_0))\n",
    "print(prompt_eng_size)"
   ]
  },
  {
   "cell_type": "code",
   "execution_count": 9,
   "id": "124ee5f1",
   "metadata": {},
   "outputs": [
    {
     "name": "stdout",
     "output_type": "stream",
     "text": [
      "50\n"
     ]
    }
   ],
   "source": [
    "print(len(re.findall(r'\\w+', prompt_eng_pre_1)) + len(re.findall(r'\\w+', prompt_eng_post_1)))"
   ]
  },
  {
   "cell_type": "code",
   "execution_count": 10,
   "id": "bd1dc201",
   "metadata": {},
   "outputs": [
    {
     "name": "stdout",
     "output_type": "stream",
     "text": [
      "393448\n"
     ]
    }
   ],
   "source": [
    "df_string = df_cc.to_string()\n",
    "words = df_string.split()\n",
    "print(len(words))"
   ]
  },
  {
   "cell_type": "code",
   "execution_count": 11,
   "id": "a94b5725",
   "metadata": {},
   "outputs": [
    {
     "name": "stdout",
     "output_type": "stream",
     "text": [
      "265.48448043184885\n"
     ]
    }
   ],
   "source": [
    "print(393448 / 1482)"
   ]
  },
  {
   "cell_type": "code",
   "execution_count": 12,
   "id": "2c908a19",
   "metadata": {},
   "outputs": [
    {
     "name": "stdout",
     "output_type": "stream",
     "text": [
      "955844.0000000343\n"
     ]
    }
   ],
   "source": [
    "acc = 0\n",
    "for i in range(1, len(df_cc.index)+1):\n",
    "    acc += 64 + (393448 / 1482)\n",
    "for i in range(1, len(df_cc.index)+1):\n",
    "    acc += 50 + (393448 / 1482)\n",
    "print(acc)"
   ]
  },
  {
   "cell_type": "code",
   "execution_count": 13,
   "id": "25c24779",
   "metadata": {},
   "outputs": [
    {
     "name": "stdout",
     "output_type": "stream",
     "text": [
      "1890.0222026666665\n"
     ]
    }
   ],
   "source": [
    "print((708758326 / 750) * 0.002)"
   ]
  },
  {
   "cell_type": "code",
   "execution_count": 14,
   "id": "529d6978",
   "metadata": {},
   "outputs": [
    {
     "name": "stdout",
     "output_type": "stream",
     "text": [
      "1687187.9999999907\n"
     ]
    }
   ],
   "source": [
    "acc = 0\n",
    "for i in range(1, len(df_cc.index)+1):\n",
    "    acc += 3*((64+50) + (393448 / 1482))\n",
    "print(acc)"
   ]
  },
  {
   "cell_type": "code",
   "execution_count": 15,
   "id": "25d10aa8",
   "metadata": {},
   "outputs": [
    {
     "name": "stdout",
     "output_type": "stream",
     "text": [
      "4.499165333333333\n"
     ]
    }
   ],
   "source": [
    "print((1687187 / 750) * 0.002)"
   ]
  },
  {
   "cell_type": "code",
   "execution_count": 35,
   "id": "441b682c",
   "metadata": {},
   "outputs": [
    {
     "name": "stdout",
     "output_type": "stream",
     "text": [
      "526906934.0000002\n"
     ]
    }
   ],
   "source": [
    "acc = 0\n",
    "for i in range(1, len(df_cc.index)+1):\n",
    "    acc += i*((64+50) + (393448 / 1482) + 100)\n",
    "print(acc)"
   ]
  },
  {
   "cell_type": "code",
   "execution_count": 36,
   "id": "3ff3a3b9",
   "metadata": {},
   "outputs": [
    {
     "name": "stdout",
     "output_type": "stream",
     "text": [
      "1405.0851573333332\n"
     ]
    }
   ],
   "source": [
    "print((526906934 / 750) * 0.002)"
   ]
  },
  {
   "cell_type": "code",
   "execution_count": 43,
   "id": "babc5d32",
   "metadata": {},
   "outputs": [
    {
     "name": "stdout",
     "output_type": "stream",
     "text": [
      "470230429.9595143\n"
     ]
    }
   ],
   "source": [
    "acc = 0\n",
    "for i in range(1, 1400+1):\n",
    "    acc += i*((64+50) + (393448 / 1482) + 100)\n",
    "print(acc)"
   ]
  },
  {
   "cell_type": "code",
   "execution_count": 44,
   "id": "4452a84e",
   "metadata": {},
   "outputs": [
    {
     "name": "stdout",
     "output_type": "stream",
     "text": [
      "1253.9478106666666\n"
     ]
    }
   ],
   "source": [
    "print((470230429 / 750) * 0.002)"
   ]
  },
  {
   "cell_type": "code",
   "execution_count": null,
   "id": "e4fdd2d6",
   "metadata": {},
   "outputs": [],
   "source": []
  }
 ],
 "metadata": {
  "kernelspec": {
   "display_name": "Python 3",
   "language": "python",
   "name": "python3"
  },
  "language_info": {
   "codemirror_mode": {
    "name": "ipython",
    "version": 3
   },
   "file_extension": ".py",
   "mimetype": "text/x-python",
   "name": "python",
   "nbconvert_exporter": "python",
   "pygments_lexer": "ipython3",
   "version": "3.9.2"
  }
 },
 "nbformat": 4,
 "nbformat_minor": 5
}
